{
 "cells": [
  {
   "cell_type": "code",
   "execution_count": 2,
   "metadata": {},
   "outputs": [],
   "source": [
    "import math\n",
    "import numpy as np\n",
    "import pandas as pd\n",
    "import tensorflow as tf\n",
    "from tensorflow import keras\n",
    "from tensorflow.keras import layers\n",
    "from sklearn.preprocessing import MinMaxScaler"
   ]
  },
  {
   "cell_type": "code",
   "execution_count": 3,
   "metadata": {},
   "outputs": [
    {
     "name": "stdout",
     "output_type": "stream",
     "text": [
      "done\n"
     ]
    }
   ],
   "source": [
    "#Load data\n",
    "path = 'IMU/OxIOD/handheld'\n",
    "train = [[1,7],[2,3],[3,5],[4,5]]\n",
    "test = [[5,4]]\n",
    "\n",
    "def read(locations):\n",
    "    imu = []\n",
    "    vicon = []\n",
    "    for i in locations:\n",
    "        j,k = i[0],i[1]\n",
    "        l = 1\n",
    "        while l <= k:\n",
    "            ids = pd.read_csv(path+'/data'+str(j)+'/syn/imu'+str(l)+'.csv', header=None)\n",
    "            vds = pd.read_csv(path+'/data'+str(j)+'/syn/vi'+str(l)+'.csv', header=None)\n",
    "            imu.append(ids)\n",
    "            vicon.append(vds)\n",
    "            l = l + 1\n",
    "    imu = pd.concat(imu)\n",
    "    vicon = pd.concat(vicon)\n",
    "    \n",
    "    imu.drop(imu.columns[[0,1,2,3,7,8,9,13,14,15]],axis=1,inplace=True)\n",
    "    extra = (len(imu)%200)\n",
    "    imu = imu[:-extra]\n",
    "    vicon.drop(vicon.columns[[0,1,4,5,6,7,8]],axis=1,inplace=True)\n",
    "\n",
    "    vicon = vicon.rolling(200).mean()*2\n",
    "    vicon = vicon[199::200]\n",
    "    vicon['length'] = np.sqrt(vicon.iloc[:, 0]**2 + vicon.iloc[:,1]**2)\n",
    "    vicon['totalheading'] = np.arctan(vicon.iloc[:,1]/vicon.iloc[:,0])\n",
    "    vicon['heading'] = vicon['totalheading'].diff()\n",
    "\n",
    "    vicon.drop(vicon.columns[[0,1,3]],axis=1,inplace=True)\n",
    "    vicon.iloc[0,1] = vicon.iloc[1,1]\n",
    "            \n",
    "    sc = MinMaxScaler(feature_range = (0,1))\n",
    "    imu = sc.fit_transform(imu)\n",
    "    vicon = sc.fit_transform(vicon)\n",
    "    \n",
    "    return imu,vicon\n",
    "\n",
    "imutrain, vicontrain = read(train)\n",
    "imutest, vicontest = read(test)\n",
    "print('done')"
   ]
  },
  {
   "cell_type": "code",
   "execution_count": 4,
   "metadata": {},
   "outputs": [
    {
     "name": "stdout",
     "output_type": "stream",
     "text": [
      "(699200, 6)\n",
      "(3496, 2)\n",
      "<PrefetchDataset shapes: (None, None, 6), types: tf.float64>\n"
     ]
    }
   ],
   "source": [
    "print(imutrain.shape)\n",
    "print(vicontrain.shape)\n",
    "\n",
    "def windowed_dataset(series, window_size, batch_size):\n",
    "    dataset = tf.data.Dataset.from_tensor_slices(series)\n",
    "    dataset = dataset.window(window_size + 10, shift=10, drop_remainder=True)\n",
    "    dataset = dataset.flat_map(lambda window: window.batch(window_size + 1))\n",
    "    dataset = dataset.batch(batch_size).prefetch(1)\n",
    "    return dataset\n",
    "print(windowed_dataset(imutrain, 200, 256))\n",
    "\n",
    "imutrain = imutrain.reshape(int(imutrain.shape[0]/200),200,imutrain.shape[1])\n",
    "\n",
    "imutest = imutest.reshape(int(imutest.shape[0]/200),200,imutest.shape[1])\n"
   ]
  },
  {
   "cell_type": "code",
   "execution_count": 5,
   "metadata": {
    "scrolled": false
   },
   "outputs": [
    {
     "name": "stdout",
     "output_type": "stream",
     "text": [
      "Epoch 1/10\n",
      "14/14 [==============================] - 5s 343ms/step - loss: 0.0804\n",
      "Epoch 2/10\n",
      "14/14 [==============================] - 5s 341ms/step - loss: 0.0500\n",
      "Epoch 3/10\n",
      "14/14 [==============================] - 5s 348ms/step - loss: 0.0469\n",
      "Epoch 4/10\n",
      "14/14 [==============================] - 5s 340ms/step - loss: 0.0459\n",
      "Epoch 5/10\n",
      "14/14 [==============================] - 5s 359ms/step - loss: 0.0452\n",
      "Epoch 6/10\n",
      "14/14 [==============================] - 5s 336ms/step - loss: 0.0454\n",
      "Epoch 7/10\n",
      "14/14 [==============================] - 5s 337ms/step - loss: 0.0454\n",
      "Epoch 8/10\n",
      "14/14 [==============================] - 5s 332ms/step - loss: 0.0441\n",
      "Epoch 9/10\n",
      "14/14 [==============================] - 5s 324ms/step - loss: 0.0436\n",
      "Epoch 10/10\n",
      "14/14 [==============================] - 5s 337ms/step - loss: 0.0432\n",
      "Model: \"sequential\"\n",
      "_________________________________________________________________\n",
      "Layer (type)                 Output Shape              Param #   \n",
      "=================================================================\n",
      "bidirectional (Bidirectional (None, 192)               79104     \n",
      "_________________________________________________________________\n",
      "dense (Dense)                (None, 2)                 386       \n",
      "=================================================================\n",
      "Total params: 79,490\n",
      "Trainable params: 79,490\n",
      "Non-trainable params: 0\n",
      "_________________________________________________________________\n"
     ]
    }
   ],
   "source": [
    "model = keras.Sequential()\n",
    "\n",
    "model.add(layers.Bidirectional(layers.LSTM(96, input_shape=(200, 6))))\n",
    "\n",
    "model.add(layers.Dense(2))\n",
    "\n",
    "adam = keras.optimizers.Adam(lr=0.001)\n",
    "\n",
    "model.compile(optimizer=adam,loss='mean_squared_error')\n",
    "\n",
    "model.fit(imutrain,vicontrain, epochs=10, batch_size=256)\n",
    "\n",
    "model.summary()"
   ]
  },
  {
   "cell_type": "code",
   "execution_count": 123,
   "metadata": {},
   "outputs": [
    {
     "name": "stdout",
     "output_type": "stream",
     "text": [
      "[[0.49496493 0.5220183 ]\n",
      " [0.49568763 0.52089596]\n",
      " [0.49751118 0.5103168 ]\n",
      " ...\n",
      " [0.58469254 0.5478025 ]\n",
      " [0.4843044  0.59225005]\n",
      " [0.75763875 0.24322045]]\n",
      "[[0.53372739 0.4972455 ]\n",
      " [0.53637204 0.4972455 ]\n",
      " [0.53392283 0.49740099]\n",
      " ...\n",
      " [0.47356541 0.64506133]\n",
      " [0.51825609 0.7023108 ]\n",
      " [0.68384809 0.08972516]]\n"
     ]
    }
   ],
   "source": [
    "values = model.predict(imutest)\n",
    "print(values)\n",
    "print(vicontest)"
   ]
  }
 ],
 "metadata": {
  "kernelspec": {
   "display_name": "Python 3",
   "language": "python",
   "name": "python3"
  },
  "language_info": {
   "codemirror_mode": {
    "name": "ipython",
    "version": 3
   },
   "file_extension": ".py",
   "mimetype": "text/x-python",
   "name": "python",
   "nbconvert_exporter": "python",
   "pygments_lexer": "ipython3",
   "version": "3.7.4"
  }
 },
 "nbformat": 4,
 "nbformat_minor": 2
}
